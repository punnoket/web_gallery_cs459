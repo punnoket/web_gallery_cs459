{
 "cells": [
  {
   "cell_type": "code",
   "execution_count": 6,
   "metadata": {
    "collapsed": false
   },
   "outputs": [],
   "source": [
    "import os"
   ]
  },
  {
   "cell_type": "code",
   "execution_count": 7,
   "metadata": {
    "collapsed": false
   },
   "outputs": [],
   "source": [
    "path=os.path.join('..','materials','bert')\n",
    "all_img=os.listdir(path)"
   ]
  },
  {
   "cell_type": "code",
   "execution_count": 8,
   "metadata": {
    "collapsed": false
   },
   "outputs": [],
   "source": [
    "for i in Image.objects.all():\n",
    "    print i.image.url"
   ]
  },
  {
   "cell_type": "code",
   "execution_count": 9,
   "metadata": {
    "collapsed": true
   },
   "outputs": [],
   "source": [
    "from django.core.files import File"
   ]
  },
  {
   "cell_type": "code",
   "execution_count": 10,
   "metadata": {
    "collapsed": false
   },
   "outputs": [
    {
     "name": "stdout",
     "output_type": "stream",
     "text": [
      "Image object\n",
      "Image object\n",
      "Image object\n",
      "Image object\n",
      "Image object\n",
      "Image object\n",
      "Image object\n",
      "Image object\n",
      "Image object\n",
      "Image object\n",
      "Image object\n",
      "Image object\n",
      "Image object\n",
      "Image object\n",
      "Image object\n",
      "Image object\n",
      "Image object\n",
      "Image object\n",
      "Image object\n",
      "Image object\n",
      "Image object\n",
      "Image object\n",
      "Image object\n",
      "Image object\n",
      "Image object\n",
      "Image object\n",
      "Image object\n",
      "Image object\n",
      "Image object\n",
      "Image object\n",
      "Image object\n",
      "Image object\n",
      "Image object\n",
      "Image object\n",
      "Image object\n",
      "Image object\n",
      "Image object\n",
      "Image object\n",
      "Image object\n",
      "Image object\n",
      "Image object\n",
      "Image object\n",
      "Image object\n",
      "Image object\n",
      "Image object\n",
      "Image object\n",
      "Image object\n",
      "Image object\n",
      "Image object\n",
      "Image object\n",
      "Image object\n",
      "Image object\n",
      "Image object\n",
      "Image object\n",
      "Image object\n",
      "Image object\n",
      "Image object\n",
      "Image object\n",
      "Image object\n",
      "Image object\n",
      "Image object\n",
      "Image object\n",
      "Image object\n",
      "Image object\n",
      "Image object\n",
      "Image object\n",
      "Image object\n",
      "Image object\n",
      "Image object\n",
      "Image object\n",
      "Image object\n",
      "Image object\n",
      "Image object\n",
      "Image object\n",
      "Image object\n",
      "Image object\n",
      "Image object\n",
      "Image object\n",
      "Image object\n",
      "Image object\n",
      "Image object\n",
      "Image object\n",
      "Image object\n",
      "Image object\n",
      "Image object\n",
      "Image object\n",
      "Image object\n",
      "Image object\n",
      "Image object\n",
      "Image object\n",
      "Image object\n",
      "Image object\n",
      "Image object\n",
      "Image object\n",
      "Image object\n",
      "Image object\n",
      "Image object\n",
      "Image object\n",
      "Image object\n",
      "Image object\n",
      "Image object\n",
      "Image object\n",
      "Image object\n",
      "Image object\n",
      "Image object\n",
      "Image object\n",
      "Image object\n",
      "Image object\n",
      "Image object\n",
      "Image object\n",
      "Image object\n",
      "Image object\n",
      "Image object\n",
      "Image object\n",
      "Image object\n",
      "Image object\n",
      "Image object\n",
      "Image object\n",
      "Image object\n",
      "Image object\n",
      "Image object\n",
      "Image object\n",
      "Image object\n",
      "Image object\n",
      "Image object\n",
      "Image object\n",
      "Image object\n",
      "Image object\n",
      "Image object\n",
      "Image object\n",
      "Image object\n",
      "Image object\n",
      "Image object\n",
      "Image object\n",
      "Image object\n",
      "Image object\n",
      "Image object\n",
      "Image object\n",
      "Image object\n",
      "Image object\n",
      "Image object\n",
      "Image object\n",
      "Image object\n",
      "Image object\n",
      "Image object\n",
      "Image object\n",
      "Image object\n",
      "Image object\n",
      "Image object\n",
      "Image object\n",
      "Image object\n",
      "Image object\n",
      "Image object\n",
      "Image object\n",
      "Image object\n",
      "Image object\n",
      "Image object\n",
      "Image object\n",
      "Image object\n"
     ]
    }
   ],
   "source": [
    "for i in all_img:\n",
    "    im=os.path.join(path,i)\n",
    "    pic=Image(description=\"some text\")\n",
    "    f=File(open(im,'rb'))\n",
    "    pic.image.save(\"file_name.jpg\",f)\n",
    "    print pic\n",
    "    "
   ]
  },
  {
   "cell_type": "code",
   "execution_count": 11,
   "metadata": {
    "collapsed": false
   },
   "outputs": [
    {
     "name": "stdout",
     "output_type": "stream",
     "text": [
      "Image object\n"
     ]
    }
   ],
   "source": [
    "print pic"
   ]
  },
  {
   "cell_type": "code",
   "execution_count": null,
   "metadata": {
    "collapsed": true
   },
   "outputs": [],
   "source": []
  }
 ],
 "metadata": {
  "anaconda-cloud": {},
  "kernelspec": {
   "display_name": "Django Shell-Plus",
   "language": "python",
   "name": "django_extensions"
  },
  "language_info": {
   "codemirror_mode": {
    "name": "ipython",
    "version": 2
   },
   "file_extension": ".py",
   "mimetype": "text/x-python",
   "name": "python",
   "nbconvert_exporter": "python",
   "pygments_lexer": "ipython2",
   "version": "2.7.13"
  }
 },
 "nbformat": 4,
 "nbformat_minor": 1
}
